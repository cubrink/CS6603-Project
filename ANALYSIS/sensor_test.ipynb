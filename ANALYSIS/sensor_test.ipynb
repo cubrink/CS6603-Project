{
 "cells": [
  {
   "cell_type": "code",
   "execution_count": 1,
   "id": "748cc6b5",
   "metadata": {},
   "outputs": [],
   "source": [
    "import numpy as np\n",
    "import pandas as pd\n",
    "import matplotlib.pyplot as plt"
   ]
  },
  {
   "cell_type": "code",
   "execution_count": 2,
   "id": "bf5443a4",
   "metadata": {},
   "outputs": [],
   "source": [
    "from pathlib import Path\n",
    "from utils import load_rx_data, load_tx_data, tx_aloha_files, rx_aloha_files"
   ]
  },
  {
   "cell_type": "code",
   "execution_count": 3,
   "id": "380fc028",
   "metadata": {},
   "outputs": [],
   "source": [
    "data = load_tx_data(tx_aloha_files[0])"
   ]
  },
  {
   "cell_type": "code",
   "execution_count": 8,
   "id": "7305ea71",
   "metadata": {},
   "outputs": [
    {
     "data": {
      "text/html": [
       "<div>\n",
       "<style scoped>\n",
       "    .dataframe tbody tr th:only-of-type {\n",
       "        vertical-align: middle;\n",
       "    }\n",
       "\n",
       "    .dataframe tbody tr th {\n",
       "        vertical-align: top;\n",
       "    }\n",
       "\n",
       "    .dataframe thead th {\n",
       "        text-align: right;\n",
       "    }\n",
       "</style>\n",
       "<table border=\"1\" class=\"dataframe\">\n",
       "  <thead>\n",
       "    <tr style=\"text-align: right;\">\n",
       "      <th></th>\n",
       "      <th>packet_number</th>\n",
       "      <th>ack</th>\n",
       "      <th>timestamp</th>\n",
       "    </tr>\n",
       "  </thead>\n",
       "  <tbody>\n",
       "    <tr>\n",
       "      <th>0</th>\n",
       "      <td>0</td>\n",
       "      <td>1</td>\n",
       "      <td>0.00</td>\n",
       "    </tr>\n",
       "    <tr>\n",
       "      <th>1</th>\n",
       "      <td>1</td>\n",
       "      <td>1</td>\n",
       "      <td>0.28</td>\n",
       "    </tr>\n",
       "    <tr>\n",
       "      <th>2</th>\n",
       "      <td>2</td>\n",
       "      <td>1</td>\n",
       "      <td>0.60</td>\n",
       "    </tr>\n",
       "    <tr>\n",
       "      <th>3</th>\n",
       "      <td>3</td>\n",
       "      <td>1</td>\n",
       "      <td>0.88</td>\n",
       "    </tr>\n",
       "    <tr>\n",
       "      <th>4</th>\n",
       "      <td>4</td>\n",
       "      <td>1</td>\n",
       "      <td>1.19</td>\n",
       "    </tr>\n",
       "    <tr>\n",
       "      <th>...</th>\n",
       "      <td>...</td>\n",
       "      <td>...</td>\n",
       "      <td>...</td>\n",
       "    </tr>\n",
       "    <tr>\n",
       "      <th>338</th>\n",
       "      <td>321</td>\n",
       "      <td>1</td>\n",
       "      <td>174.78</td>\n",
       "    </tr>\n",
       "    <tr>\n",
       "      <th>339</th>\n",
       "      <td>322</td>\n",
       "      <td>1</td>\n",
       "      <td>175.13</td>\n",
       "    </tr>\n",
       "    <tr>\n",
       "      <th>340</th>\n",
       "      <td>323</td>\n",
       "      <td>1</td>\n",
       "      <td>175.50</td>\n",
       "    </tr>\n",
       "    <tr>\n",
       "      <th>341</th>\n",
       "      <td>324</td>\n",
       "      <td>1</td>\n",
       "      <td>175.91</td>\n",
       "    </tr>\n",
       "    <tr>\n",
       "      <th>342</th>\n",
       "      <td>325</td>\n",
       "      <td>1</td>\n",
       "      <td>176.42</td>\n",
       "    </tr>\n",
       "  </tbody>\n",
       "</table>\n",
       "<p>343 rows × 3 columns</p>\n",
       "</div>"
      ],
      "text/plain": [
       "     packet_number  ack  timestamp\n",
       "0                0    1       0.00\n",
       "1                1    1       0.28\n",
       "2                2    1       0.60\n",
       "3                3    1       0.88\n",
       "4                4    1       1.19\n",
       "..             ...  ...        ...\n",
       "338            321    1     174.78\n",
       "339            322    1     175.13\n",
       "340            323    1     175.50\n",
       "341            324    1     175.91\n",
       "342            325    1     176.42\n",
       "\n",
       "[343 rows x 3 columns]"
      ]
     },
     "execution_count": 8,
     "metadata": {},
     "output_type": "execute_result"
    }
   ],
   "source": [
    "data.timestamp -= data.timestamp.min()\n",
    "data"
   ]
  },
  {
   "cell_type": "code",
   "execution_count": 18,
   "id": "c1f3aa48",
   "metadata": {},
   "outputs": [],
   "source": [
    "def per(df, timestamp):\n",
    "    data = df[df['timestamp'] <= timestamp]\n",
    "    pdr = df.ack.mean()\n",
    "    per = 1 - pdr\n",
    "    return per"
   ]
  },
  {
   "cell_type": "code",
   "execution_count": 19,
   "id": "5df47af4",
   "metadata": {},
   "outputs": [],
   "source": [
    "def generate_per_graph(dataframe, title, outfile=None):\n",
    "    dataframe.timestamp -= dataframe.timestamp.min()\n",
    "\n",
    "    per_data = np.asarray([\n",
    "        (i, per(dataframe, i)) for i in range(180)\n",
    "    ])\n",
    "\n",
    "    plt.plot(per_data[:,0], per_data[:,1])\n",
    "    \n",
    "    plt.title(title)\n",
    "    plt.xlabel(\"Time (seconds)\")\n",
    "    plt.ylabel(\"PER\")\n",
    "    if outfile:\n",
    "        plt.savefig(outfile)\n",
    "    plt.show()"
   ]
  },
  {
   "cell_type": "code",
   "execution_count": 20,
   "id": "b4f8e2e0",
   "metadata": {},
   "outputs": [
    {
     "ename": "TypeError",
     "evalue": "'function' object is not subscriptable",
     "output_type": "error",
     "traceback": [
      "\u001b[0;31m---------------------------------------------------------------------------\u001b[0m",
      "\u001b[0;31mTypeError\u001b[0m                                 Traceback (most recent call last)",
      "Cell \u001b[0;32mIn[20], line 2\u001b[0m\n\u001b[1;32m      1\u001b[0m data \u001b[39m=\u001b[39m load_tx_data(tx_aloha_files[\u001b[39m0\u001b[39m])\n\u001b[0;32m----> 2\u001b[0m generate_per_graph(data, \u001b[39m'\u001b[39;49m\u001b[39mPacket Error Rate\u001b[39;49m\u001b[39m'\u001b[39;49m)\n",
      "Cell \u001b[0;32mIn[19], line 8\u001b[0m, in \u001b[0;36mgenerate_per_graph\u001b[0;34m(dataframe, title, outfile)\u001b[0m\n\u001b[1;32m      2\u001b[0m dataframe\u001b[39m.\u001b[39mtimestamp \u001b[39m-\u001b[39m\u001b[39m=\u001b[39m dataframe\u001b[39m.\u001b[39mtimestamp\u001b[39m.\u001b[39mmin()\n\u001b[1;32m      4\u001b[0m per_data \u001b[39m=\u001b[39m np\u001b[39m.\u001b[39masarray([\n\u001b[1;32m      5\u001b[0m     (i, per(dataframe, i)) \u001b[39mfor\u001b[39;00m i \u001b[39min\u001b[39;00m \u001b[39mrange\u001b[39m(\u001b[39m180\u001b[39m)\n\u001b[1;32m      6\u001b[0m ])\n\u001b[0;32m----> 8\u001b[0m plt\u001b[39m.\u001b[39mplot(per[:,\u001b[39m0\u001b[39;49m], per_data[:,\u001b[39m1\u001b[39m])\n\u001b[1;32m     10\u001b[0m plt\u001b[39m.\u001b[39mtitle(title)\n\u001b[1;32m     11\u001b[0m plt\u001b[39m.\u001b[39mxlabel(\u001b[39m\"\u001b[39m\u001b[39mTime (seconds)\u001b[39m\u001b[39m\"\u001b[39m)\n",
      "\u001b[0;31mTypeError\u001b[0m: 'function' object is not subscriptable"
     ]
    }
   ],
   "source": [
    "data = load_tx_data(tx_aloha_files[0])\n",
    "generate_per_graph(data, 'Packet Error Rate')"
   ]
  },
  {
   "cell_type": "code",
   "execution_count": null,
   "id": "1ad218ba",
   "metadata": {},
   "outputs": [],
   "source": []
  }
 ],
 "metadata": {
  "kernelspec": {
   "display_name": "Python 3 (ipykernel)",
   "language": "python",
   "name": "python3"
  },
  "language_info": {
   "codemirror_mode": {
    "name": "ipython",
    "version": 3
   },
   "file_extension": ".py",
   "mimetype": "text/x-python",
   "name": "python",
   "nbconvert_exporter": "python",
   "pygments_lexer": "ipython3",
   "version": "3.10.9"
  }
 },
 "nbformat": 4,
 "nbformat_minor": 5
}
