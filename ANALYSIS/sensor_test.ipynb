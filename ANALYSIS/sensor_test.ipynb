{
 "cells": [
  {
   "cell_type": "code",
   "execution_count": 4,
   "id": "748cc6b5",
   "metadata": {},
   "outputs": [],
   "source": [
    "import numpy as np\n",
    "import pandas as pd\n",
    "import matplotlib.pyplot as plt"
   ]
  },
  {
   "cell_type": "code",
   "execution_count": 5,
   "id": "bf5443a4",
   "metadata": {},
   "outputs": [],
   "source": [
    "from pathlib import Path"
   ]
  },
  {
   "cell_type": "code",
   "execution_count": 6,
   "id": "586716d2",
   "metadata": {},
   "outputs": [],
   "source": [
    "data_path = Path('..') / 'ALOHA' / 'Receiver' / 'DATA'"
   ]
  },
  {
   "cell_type": "code",
   "execution_count": 7,
   "id": "380fc028",
   "metadata": {},
   "outputs": [
    {
     "data": {
      "text/plain": [
       "[PosixPath('../ALOHA/Receiver/DATA/wSen_50Hz_ALOHA'),\n",
       " PosixPath('../ALOHA/Receiver/DATA/noSen_100Hz_noALOHA'),\n",
       " PosixPath('../ALOHA/Receiver/DATA/wSen_50Hz_noALOHA'),\n",
       " PosixPath('../ALOHA/Receiver/DATA/noSen_50Hz_ALOHA'),\n",
       " PosixPath('../ALOHA/Receiver/DATA/noSen_50Hz_noALOHA'),\n",
       " PosixPath('../ALOHA/Receiver/DATA/noSen_10Hz_noALOHA')]"
      ]
     },
     "execution_count": 7,
     "metadata": {},
     "output_type": "execute_result"
    }
   ],
   "source": [
    "list(data_path.iterdir())"
   ]
  },
  {
   "cell_type": "code",
   "execution_count": null,
   "id": "c1f3aa48",
   "metadata": {},
   "outputs": [],
   "source": []
  }
 ],
 "metadata": {
  "kernelspec": {
   "display_name": "Python 3 (ipykernel)",
   "language": "python",
   "name": "python3"
  },
  "language_info": {
   "codemirror_mode": {
    "name": "ipython",
    "version": 3
   },
   "file_extension": ".py",
   "mimetype": "text/x-python",
   "name": "python",
   "nbconvert_exporter": "python",
   "pygments_lexer": "ipython3",
   "version": "3.9.2"
  }
 },
 "nbformat": 4,
 "nbformat_minor": 5
}
